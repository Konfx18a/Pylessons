{
  "nbformat": 4,
  "nbformat_minor": 0,
  "metadata": {
    "colab": {
      "provenance": [],
      "include_colab_link": true
    },
    "kernelspec": {
      "name": "python3",
      "display_name": "Python 3"
    },
    "language_info": {
      "name": "python"
    }
  },
  "cells": [
    {
      "cell_type": "markdown",
      "metadata": {
        "id": "view-in-github",
        "colab_type": "text"
      },
      "source": [
        "<a href=\"https://colab.research.google.com/github/Konfx18a/Pylessons/blob/main/%D0%9A%D0%BE%D0%BF%D0%B8%D1%8F_%D0%B1%D0%BB%D0%BE%D0%BA%D0%BD%D0%BE%D1%82%D0%B0_%22%D0%9E%D0%B1%D1%83%D1%87%D0%B5%D0%BD%D0%B8%D0%B5_%D1%81_%D1%83%D1%87%D0%B8%D1%82%D0%B5%D0%BB%D0%B5%D0%BC_%D0%B8_%D0%B1%D0%B5%D0%B7_%D1%83%D1%87%D0%B8%D1%82%D0%B5%D0%BB%D1%8F_%D0%94_%D0%97_ipynb%22.ipynb\" target=\"_parent\"><img src=\"https://colab.research.google.com/assets/colab-badge.svg\" alt=\"Open In Colab\"/></a>"
      ]
    },
    {
      "cell_type": "markdown",
      "source": [
        "#Домашнее задание: Обучение с учителем и без учителя. Д.З"
      ],
      "metadata": {
        "id": "AGlBT9l0E1-h"
      }
    },
    {
      "cell_type": "code",
      "source": [
        "from google.colab import drive\n",
        "drive.mount('/content/drive')"
      ],
      "metadata": {
        "colab": {
          "base_uri": "https://localhost:8080/"
        },
        "id": "Uynmexhn9PZJ",
        "outputId": "7a973126-d992-47dd-a380-c144e905f342"
      },
      "execution_count": 1,
      "outputs": [
        {
          "output_type": "stream",
          "name": "stdout",
          "text": [
            "Mounted at /content/drive\n"
          ]
        }
      ]
    },
    {
      "cell_type": "markdown",
      "source": [
        "Обучение с учителем (supervised learning) и без учителя (unsupervised learning) — две основные парадигмы машинного обучения, которые используются для решения различных задач.\n",
        "\n",
        "### Обучение с учителем (Supervised Learning)\n",
        "Обучение с учителем включает в себя обучение модели на размеченных данных. Размеченные данные означают, что для каждого примера в наборе данных известен правильный ответ или метка.\n",
        "\n",
        "#### Примеры задач обучения с учителем:\n",
        "1. **Классификация**: Предсказание категории или класса, к которому принадлежит объект.\n",
        "   - Пример: Распознавание изображений (определить, что изображено на картинке: кошка или собака).\n",
        "2. **Регрессия**: Предсказание непрерывного значения.\n",
        "   - Пример: Прогнозирование цен на недвижимость.\n",
        "\n",
        "#### Основные этапы обучения с учителем:\n",
        "1. **Сбор и разметка данных**: Подготовка набора данных, где каждый пример имеет метку.\n",
        "2. **Разделение данных**: Деление набора данных на обучающую и тестовую части.\n",
        "3. **Выбор модели**: Определение алгоритма, который будет использоваться для обучения (например, линейная регрессия, дерево решений).\n",
        "4. **Обучение модели**: Использование обучающего набора данных для настройки параметров модели.\n",
        "5. **Оценка модели**: Проверка качества модели на тестовом наборе данных.\n",
        "\n",
        "### Обучение без учителя (Unsupervised Learning)\n",
        "Обучение без учителя включает в себя обучение модели на неразмеченных данных. Модель должна самостоятельно выявить структуру или паттерны в данных.\n",
        "\n",
        "#### Примеры задач обучения без учителя:\n",
        "1. **Кластеризация**: Группировка объектов в кластеры на основе их сходства.\n",
        "   - Пример: Сегментация клиентов по схожести их покупательских привычек.\n",
        "2. **Поиск ассоциаций**: Выявление правил ассоциаций между объектами в данных.\n",
        "   - Пример: Анализ рыночной корзины (какие продукты часто покупаются вместе).\n",
        "\n",
        "#### Основные этапы обучения без учителя:\n",
        "1. **Сбор данных**: Подготовка набора данных без меток.\n",
        "2. **Выбор алгоритма**: Определение алгоритма, который будет использоваться для обучения (например, k-means, алгоритм ассоциации).\n",
        "3. **Обучение модели**: Применение алгоритма к данным для выявления структур или паттернов.\n",
        "4. **Интерпретация результатов**: Анализ полученных результатов и их интерпретация.\n",
        "\n",
        "### Домашнее задание\n",
        "Создайте копию блокнота. Далее выполнйте задания в ней.\n",
        "\n",
        "1. **Теоретическая часть**:\n",
        "   - Опишите различия между обучением с учителем и без учителя.\n",
        "   - Приведите примеры задач, которые решаются с помощью обучения с учителем, и задачи, которые решаются с помощью обучения без учителя.\n",
        "\n",
        "2. **Практическая часть**:\n",
        "   - Найдите датасет, который можно использовать для обучения с учителем и без учителя. (Например, датасет \"Wine\" из библиотеки Scikit-Learn. Этот датасет содержит информацию о химическом составе различных вин и их классах (три разных сорта вина)).\n",
        "   - Реализуйте  алгоритм обучения с учителем и без учителя. Интерпретируйте результаты.\n",
        "\n",
        "```python\n",
        "# Импортируем необходимые библиотеки\n",
        "import numpy as np\n",
        "from sklearn.datasets import load_wine\n",
        "from sklearn.model_selection import train_test_split\n",
        "from sklearn.linear_model import LogisticRegression\n",
        "from sklearn.metrics import accuracy_score, classification_report\n",
        "```\n",
        "Ссылку на ваш блокнот разместите в домашнем задании.\n",
        "\n",
        "Удачи в выполнении задания! Если возникнут вопросы, не стесняйтесь обращаться за помощью."
      ],
      "metadata": {
        "id": "te4noydZ-8dY"
      }
    },
    {
      "cell_type": "markdown",
      "source": [
        "### Обучение с учителем: Классификация с использованием логистической регрессии\n",
        "Используем датасет \"Iris\" для классификации видов ирисов."
      ],
      "metadata": {
        "id": "LUUJPb119iB5"
      }
    },
    {
      "cell_type": "code",
      "source": [
        "# Импортируем необходимые библиотеки\n",
        "import numpy as np\n",
        "from sklearn.datasets import load_iris\n",
        "from sklearn.model_selection import train_test_split\n",
        "from sklearn.linear_model import LogisticRegression\n",
        "from sklearn.metrics import accuracy_score, classification_report\n",
        "\n",
        "# Загружаем датасет Iris\n",
        "iris = load_iris()\n",
        "X = iris.data\n",
        "y = iris.target\n",
        "\n",
        "# Разделяем данные на обучающую и тестовую части\n",
        "X_train, X_test, y_train, y_test = train_test_split(X, y, test_size=0.3, random_state=42)\n",
        "\n",
        "# Обучаем модель логистической регрессии\n",
        "model = LogisticRegression(max_iter=200)\n",
        "model.fit(X_train, y_train)\n",
        "\n",
        "# Предсказываем результаты на тестовых данных\n",
        "y_pred = model.predict(X_test)\n",
        "\n",
        "# Оцениваем качество модели\n",
        "accuracy = accuracy_score(y_test, y_pred)\n",
        "print(\"Accuracy:\", accuracy)\n",
        "print(\"Classification Report:\")\n",
        "print(classification_report(y_test, y_pred))"
      ],
      "metadata": {
        "colab": {
          "base_uri": "https://localhost:8080/"
        },
        "id": "U-ExRba19leb",
        "outputId": "9e4d5d9c-68b1-44d0-eea2-f89531f08028"
      },
      "execution_count": null,
      "outputs": [
        {
          "output_type": "stream",
          "name": "stdout",
          "text": [
            "Accuracy: 1.0\n",
            "Classification Report:\n",
            "              precision    recall  f1-score   support\n",
            "\n",
            "           0       1.00      1.00      1.00        19\n",
            "           1       1.00      1.00      1.00        13\n",
            "           2       1.00      1.00      1.00        13\n",
            "\n",
            "    accuracy                           1.00        45\n",
            "   macro avg       1.00      1.00      1.00        45\n",
            "weighted avg       1.00      1.00      1.00        45\n",
            "\n"
          ]
        }
      ]
    },
    {
      "cell_type": "markdown",
      "source": [
        "##Пояснение к метрикам\n",
        "###Accuracy:\n",
        "\n",
        "**accuracy**: Доля правильно предсказанных классов среди всех предсказаний. В данном случае, accuracy равна 1.00 (или 100%), что означает, что модель правильно предсказала все 45 примеров.\n",
        "\n",
        "###Macro Avg:\n",
        "\n",
        "**macro** avg: Среднее арифметическое значения precision, recall и F1-score по всем классам. В данном случае все значения равны 1.00, что указывает на идеальную модель для всех классов.\n",
        "precision: Доля правильно предсказанных положительных результатов среди всех предсказанных положительных результатов.\n",
        "recall: Доля правильно предсказанных положительных результатов среди всех фактических положительных результатов.\n",
        "f1-score: Среднее гармоническое значение precision и recall, что позволяет учесть оба этих параметра.\n",
        "\n",
        "\n",
        "###Weighted Avg:\n",
        "\n",
        "**weighted avg**: Взвешенное среднее значение precision, recall и F1-score по всем классам, где вес каждого класса пропорционален количеству истинных примеров этого класса. В данном случае все значения равны 1.00, что также указывает на идеальную модель.\n",
        "Взвешенное среднее полезно, когда классы неравномерно распределены, так как оно учитывает количество примеров каждого класса."
      ],
      "metadata": {
        "id": "FyeffmKtETfK"
      }
    },
    {
      "cell_type": "markdown",
      "source": [
        "### Обучение без учителя: Кластеризация с использованием алгоритма K-means\n",
        "Используем тот же датасет \"Iris\" для кластеризации."
      ],
      "metadata": {
        "id": "mJvok8bO9wcJ"
      }
    },
    {
      "cell_type": "code",
      "source": [
        "# Импортируем необходимые библиотеки\n",
        "from sklearn.cluster import KMeans\n",
        "import matplotlib.pyplot as plt\n",
        "\n",
        "# Обучаем модель K-means\n",
        "kmeans = KMeans(n_clusters=3, random_state=42)\n",
        "kmeans.fit(X)\n",
        "\n",
        "# Предсказываем кластеры\n",
        "clusters = kmeans.predict(X)\n",
        "\n",
        "# Визуализируем результаты кластеризации\n",
        "plt.scatter(X[:, 0], X[:, 1], c=clusters, cmap='viridis', marker='o')\n",
        "plt.title('K-means Clustering of Iris Dataset')\n",
        "plt.xlabel('Sepal Length')\n",
        "plt.ylabel('Sepal Width')\n",
        "plt.show()"
      ],
      "metadata": {
        "colab": {
          "base_uri": "https://localhost:8080/",
          "height": 527
        },
        "id": "32JK4J4d9zjY",
        "outputId": "0592844d-e4d1-4460-eca8-1bfadbe58d50"
      },
      "execution_count": null,
      "outputs": [
        {
          "output_type": "stream",
          "name": "stderr",
          "text": [
            "/usr/local/lib/python3.10/dist-packages/sklearn/cluster/_kmeans.py:870: FutureWarning: The default value of `n_init` will change from 10 to 'auto' in 1.4. Set the value of `n_init` explicitly to suppress the warning\n",
            "  warnings.warn(\n"
          ]
        },
        {
          "output_type": "display_data",
          "data": {
            "text/plain": [
              "<Figure size 640x480 with 1 Axes>"
            ],
            "image/png": "[encoded data removed]"
          },
          "metadata": {}
        }
      ]
    },
    {
      "cell_type": "markdown",
      "source": [
        "\n",
        "### Пояснение коду\n",
        "1. **Обучение с учителем (Supervised Learning)**:\n",
        "   - Загружаем датасет Iris.\n",
        "   - Разделяем данные на обучающую и тестовую выборки.\n",
        "   - Обучаем модель логистической регрессии на обучающей выборке.\n",
        "   - Оцениваем модель на тестовой выборке, выводим точность и отчёт классификации.\n",
        "\n",
        "2. **Обучение без учителя (Unsupervised Learning)**:\n",
        "   - Загружаем датасет Iris.\n",
        "   - Обучаем модель K-means для кластеризации данных.\n",
        "   - Визуализируем результаты кластеризации, отображая кластеры на графике.\n"
      ],
      "metadata": {
        "id": "2fC4Qj2W9YxU"
      }
    },
    {
      "cell_type": "code",
      "execution_count": null,
      "metadata": {
        "id": "jHejYZBB9YDO"
      },
      "outputs": [],
      "source": []
    },
    {
      "cell_type": "markdown",
      "source": [
        "Теоретическая часть.\n",
        "- Различия обучения с учителем и без учителя.\n",
        "  Обучение с учителем проводится на размеченных данных , у каждого подмножества данных есть ответ. В отличии от обучения без учителя, где данные не размечены и заданного правильного ответа на начальном этапе не существует. Из этих различий вытекает разный подход к обучению и соответственно разные его алгоритмы. На этапе получения выходных данных у обучения с учителем происходит анализ модели обучения по различным параметрам достоверности, в обучении без учителя основная задача найти зависимости в исходном наборе данных.\n",
        "- Примеры задачи которые решаются с учителем и без.\n",
        "  - с учителем :распознавание речи, изображения, предсказание котировок на фондовых площадках, ставки на спорт, обработка данных БАК (большого адронного коллайедра)\n",
        "  - без учителя: применяется для кластеризации как пример для анализа данных в маркетинге (к примеру выяснить закономрености в продажах товара по различным харакетристикам) , для уменьшения размерности данных (когда выявленные зависисмоти помогают сократить количество каких-либо характеристик за счет например их схожести )   "
      ],
      "metadata": {
        "id": "Fq2uJ8_W-WB-"
      }
    },
    {
      "cell_type": "code",
      "source": [
        "# Обучение с учителем, dataset chb80.csv, данные об оттоке клиентов из телекоммуникационной компании будем брать 80% - для обучения\n",
        "# Данные размечены. На основании массы данных, таких как время разговоров, количество звонков и т.д. будем строить модель, параметр\n",
        "# Churn (bool) - ушел или остался клиент будет тестовым, а параметры Total day minutes, Total day calls, Customer service calls данные\n",
        "# по котрым будем строить модель\n",
        "import numpy as np\n",
        "import pandas as pd\n",
        "from sklearn.model_selection import train_test_split\n",
        "from sklearn.linear_model import LogisticRegression\n",
        "from sklearn.metrics import accuracy_score, classification_report\n",
        "\n",
        "data_file_name = \"/content/chb80.csv\"\n",
        "# Загружаем датасет Iris\n",
        "df_customers_data = pd.read_csv(data_file_name)\n",
        "X = df_customers_data[['Total day minutes', 'Total day calls', 'Customer service calls']]\n",
        "y = df_customers_data['Churn']\n",
        "\n",
        "# Разделяем данные на обучающую и тестовую части\n",
        "X_train, X_test, y_train, y_test = train_test_split(X, y, test_size=0.2, random_state=42)\n",
        "\n",
        "# Обучаем модель логистической регрессии\n",
        "model = LogisticRegression(max_iter=200)\n",
        "model.fit(X_train, y_train)\n",
        "\n",
        "# Предсказываем результаты на тестовых данных\n",
        "y_pred = model.predict(X_test)\n",
        "\n",
        "# Оцениваем качество модели\n",
        "accuracy = accuracy_score(y_test, y_pred)\n",
        "print(\"Accuracy:\", accuracy)\n",
        "print(\"Classification Report:\")\n",
        "print(classification_report(y_test, y_pred))\n"
      ],
      "metadata": {
        "colab": {
          "base_uri": "https://localhost:8080/"
        },
        "id": "dPR32deHI61u",
        "outputId": "295b5090-5c6e-4d9a-9e78-dea0f354cbc2"
      },
      "execution_count": null,
      "outputs": [
        {
          "output_type": "stream",
          "name": "stdout",
          "text": [
            "Accuracy: 0.848314606741573\n",
            "Classification Report:\n",
            "              precision    recall  f1-score   support\n",
            "\n",
            "       False       0.86      0.99      0.92       455\n",
            "        True       0.38      0.04      0.07        79\n",
            "\n",
            "    accuracy                           0.85       534\n",
            "   macro avg       0.62      0.51      0.49       534\n",
            "weighted avg       0.78      0.85      0.79       534\n",
            "\n"
          ]
        }
      ]
    },
    {
      "cell_type": "markdown",
      "source": [
        "Постановка задачи:\n",
        "Обучить модель находить зависимости останется ли клиент в телекоммуникационной компании параметр Churn от времени частоты пользования услугами компании Total day minutes, Total day calls, а так же частотой обращения в сервисную службу Customer service calls. Данные поделили 80% - входные и 20% - тестовые.\n",
        "Анализ полученных результатов:\n",
        "  \n",
        "\n",
        "*   Точность (pecision):\n",
        "\n",
        "\n",
        "1.   для усредненного значения входных параметров (macro avg) составила - 0.62\n",
        "2.   для средне взвешенного (weighted avg) - 0.78\n",
        "\n",
        "\n",
        "*   Доля правильных предсказаний  (recall):\n",
        "\n",
        "\n",
        "1.   для усредненного значения входных параметров (macro avg) составила - 0.51\n",
        "2.   для средневзвешенного истины (weighted avg) - 0.85\n",
        "\n",
        "\n",
        "*   Доля правильных предсказаний  (recall):\n",
        "\n",
        "\n",
        "1.   для усредненного значения входных параметров (macro avg) составила - 0.62\n",
        "2.   для средневзвешенного истины (weighted avg) - 0.79\n",
        "\n",
        "\n",
        "\n",
        "\n",
        "Формулы: percision = Tp/(Tp+Fp) . Отношение истинно положительных результатов  результатов к сумме (ист. положит. и ложного отрицательного результата)\n",
        "recall = percision = Tp/(Tp+Fn ) . Отношение истинно положительных результатов  результатов к сумме (ист. положит. и ложного положительного результата)\n",
        "f1-score - численная оценка, ее формулу приводить не буду.\n",
        "Итог: модель достаочно точно смогла предсказать на основании выбранных исходных данных целевой показатель. Возможно необходимо поменять регрессию на линейную...\n"
      ],
      "metadata": {
        "id": "I6RSbTrZUmx_"
      }
    },
    {
      "cell_type": "code",
      "source": [
        "# Пердыдущий пример с применением линейной регрессии\n",
        "import numpy as np\n",
        "import pandas as pd\n",
        "from sklearn.model_selection import train_test_split\n",
        "from sklearn.linear_model import LinearRegression\n",
        "from sklearn.metrics import accuracy_score, classification_report\n",
        "\n",
        "data_file_name = \"/content/chb80.csv\"\n",
        "# Загружаем датасет\n",
        "df_stars = pd.read_csv(data_file_name)\n",
        "X = df_customers_data[['Total day minutes', 'Total day calls', 'Customer service calls']]\n",
        "y = df_customers_data['Churn']\n",
        "\n",
        "# Разделяем данные на обучающую и тестовую части\n",
        "X_train, X_test, y_train, y_test = train_test_split(X, y, test_size=0.2, random_state=42)\n",
        "\n",
        "# Обучаем модель логистической регрессии\n",
        "model = LogisticRegression(max_iter=200)\n",
        "model.fit(X_train, y_train)\n",
        "\n",
        "# Предсказываем результаты на тестовых данных\n",
        "y_pred = model.predict(X_test)\n",
        "\n",
        "# Оцениваем качество модели\n",
        "accuracy = accuracy_score(y_test, y_pred)\n",
        "print(\"Accuracy:\", accuracy)\n",
        "print(\"Classification Report:\")\n",
        "print(classification_report(y_test, y_pred))"
      ],
      "metadata": {
        "colab": {
          "base_uri": "https://localhost:8080/"
        },
        "id": "HTXA_qqIgz04",
        "outputId": "23b827e7-2b1e-43b8-ce63-819f9d985a20"
      },
      "execution_count": null,
      "outputs": [
        {
          "output_type": "stream",
          "name": "stdout",
          "text": [
            "Accuracy: 0.848314606741573\n",
            "Classification Report:\n",
            "              precision    recall  f1-score   support\n",
            "\n",
            "       False       0.86      0.99      0.92       455\n",
            "        True       0.38      0.04      0.07        79\n",
            "\n",
            "    accuracy                           0.85       534\n",
            "   macro avg       0.62      0.51      0.49       534\n",
            "weighted avg       0.78      0.85      0.79       534\n",
            "\n"
          ]
        }
      ]
    },
    {
      "cell_type": "markdown",
      "source": [
        "Предположение не подтвердилось.. И линейная и логическая регрессии дают одинаковый результат"
      ],
      "metadata": {
        "id": "xRX_1JtmhWVu"
      }
    },
    {
      "cell_type": "code",
      "source": [
        "# Обучение без учителя. Dataset это характеристики различных звезд нашей галактики, такие как температура, радиус, расстояние до звезды\n",
        "import pandas\n",
        "from sklearn.cluster import KMeans\n",
        "import matplotlib.pyplot as plt\n",
        "\n",
        "data_file_name = \"/content/star_dataset.csv\"\n",
        "# Загружаем датасет\n",
        "df_stars = pd.read_csv(data_file_name)\n",
        "# Убираем строковые столбцы и переводим в массив\n",
        "x= df_stars.drop(['Name', 'Spectral Class'], axis='columns').to_numpy()\n",
        "# Обучаем модель K-means\n",
        "kmeans = KMeans(n_clusters=3, random_state=42)\n",
        "kmeans.fit(x)\n",
        "\n",
        "# Предсказываем кластеры\n",
        "clusters = kmeans.predict(x)\n",
        "\n",
        "# Визуализируем результаты кластеризации\n",
        "plt.scatter(x[:, 0], x[:, 1], c=clusters, cmap='viridis', marker='o')\n",
        "cluster_centers = kmeans.cluster_centers_\n",
        "plt.scatter(cluster_centers[:,0],cluster_centers[:,1],color='red', marker='*', s=100)\n",
        "plt.title('K-means Кластеры для 1000 звезд')\n",
        "plt.xlabel('Ось Х')\n",
        "plt.ylabel('Ось Y')\n",
        "plt.show()"
      ],
      "metadata": {
        "colab": {
          "base_uri": "https://localhost:8080/",
          "height": 527
        },
        "id": "k614aklahm1T",
        "outputId": "851d3976-b2c6-4b4e-9474-72def7cca746"
      },
      "execution_count": null,
      "outputs": [
        {
          "output_type": "stream",
          "name": "stderr",
          "text": [
            "/usr/local/lib/python3.10/dist-packages/sklearn/cluster/_kmeans.py:1416: FutureWarning: The default value of `n_init` will change from 10 to 'auto' in 1.4. Set the value of `n_init` explicitly to suppress the warning\n",
            "  super()._check_params_vs_input(X, default_n_init=10)\n"
          ]
        },
        {
          "output_type": "display_data",
          "data": {
            "text/plain": [
              "<Figure size 640x480 with 1 Axes>"
            ],
            "image/png": "[encoded data removed]"
          },
          "metadata": {}
        }
      ]
    },
    {
      "cell_type": "markdown",
      "source": [
        "Наша модель разбила звезды на 3 кластера . Космические объекты иногда отличаются по ряду показателей на многие порядки и хотя в исходном файле данных ряд величин не абсолютные, а относительные разброс в кластерах получился большой. Тем не менее кластеры медианных значений могут дать определенную информацию для астрономов и астрофизиков."
      ],
      "metadata": {
        "id": "JscDPaBmwwxu"
      }
    }
  ]
}